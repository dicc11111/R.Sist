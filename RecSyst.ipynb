{
 "cells": [
  {
   "cell_type": "markdown",
   "id": "77d7730d",
   "metadata": {},
   "source": [
    "# Домашнее задание №1\n",
    "На семинаре мы проходили метрики, необходимо реализовать некоторые из них"
   ]
  },
  {
   "cell_type": "code",
   "execution_count": 1,
   "id": "0085ec8a",
   "metadata": {},
   "outputs": [],
   "source": [
    "import numpy as np\n",
    "import pandas as pd\n",
    "import math"
   ]
  },
  {
   "cell_type": "markdown",
   "id": "5c7dd553",
   "metadata": {},
   "source": [
    "Задание 1. Реализовать метрики Recall@k и Money Recall@k\n"
   ]
  },
  {
   "cell_type": "code",
   "execution_count": 2,
   "id": "969aa31a",
   "metadata": {},
   "outputs": [],
   "source": [
    "def recall_at_k(recommended_list, bought_list, k=5):\n",
    "    \n",
    "    bought_list = np.array(bought_list)\n",
    "    recommended_list = np.array(recommended_list)\n",
    "    recommended_list = recommended_list[:k]\n",
    "    flags = np.isin(recommended_list,bought_list)\n",
    "    \n",
    "    recall = flags.sum() / len(bought_list)\n",
    "    \n",
    "    return recall\n",
    "\n",
    "\n",
    "def money_recall_at_k(recommended_list, bought_list, prices_recommended, prices_bought, k=5):\n",
    "    bought_list = np.array(bought_list)\n",
    "    recommended_list = np.array(recommended_list)[:k]\n",
    "    prices_recommended = np.array(prices_recommended)[:k]\n",
    "    prices_bought = np.array(prices_bought)\n",
    "    \n",
    "    flags = np.isin(recommended_list,bought_list)\n",
    "    money_recall = (flags*prices_recommended).sum() / (bought_list*prices_bought).sum()\n",
    "    \n",
    "    return money_recall"
   ]
  },
  {
   "cell_type": "markdown",
   "id": "274a1346",
   "metadata": {},
   "source": [
    "Задание 2. Реализовать метрику MRR@k"
   ]
  },
  {
   "cell_type": "code",
   "execution_count": 4,
   "id": "aea4007e",
   "metadata": {},
   "outputs": [],
   "source": [
    "def reciprocal_rank_at_k(recommended_list, bought_list, k=5):\n",
    "    bought_list = np.array(bought_list)\n",
    "    recommended_list = np.array(recommended_list)\n",
    "    recommended_list = recommended_list[:k]\n",
    "    rank = 1\n",
    "    for i in range(len(recommended_list)):\n",
    "        if np.isin(recommended_list[i],bought_list):\n",
    "            rank = i+1\n",
    "            break\n",
    "        else:\n",
    "            continue  \n",
    "    rr_at_k = 1/rank\n",
    "\n",
    "    return rr_at_k"
   ]
  },
  {
   "cell_type": "markdown",
   "id": "e51c26b6",
   "metadata": {},
   "source": [
    "Задание 3*. Реализовать метрику nDCG@k"
   ]
  },
  {
   "cell_type": "code",
   "execution_count": 5,
   "id": "d7d753b8",
   "metadata": {},
   "outputs": [],
   "source": [
    "def ndcg_at_k(recommended_list, bought_list, k=5):\n",
    "    bought_list = np.array(bought_list)\n",
    "    recommended_list = np.array(recommended_list)\n",
    "    recommended_list = recommended_list[:k]\n",
    "    dcg_at_k = 0\n",
    "    flags = np.isin(recommended_list,bought_list)\n",
    "    for i in range(len(flags)):\n",
    "        dcg_at_k += flags[i]/math.log2(i+2)\n",
    "   \n",
    "    idcg_at_k = 0\n",
    "    for i in range(len(flags)):\n",
    "        if flags[i]:\n",
    "            idcg_at_k = 1/math.log2(i+2)\n",
    "            break\n",
    "        else:\n",
    "            continue\n",
    "        \n",
    "    ndcg_at_k = dcg_at_k/idcg_at_k\n",
    "    \n",
    "    return ndcg_at_k\n",
    "    "
   ]
  },
  {
   "cell_type": "code",
   "execution_count": 6,
   "id": "c94f0ba5",
   "metadata": {},
   "outputs": [],
   "source": [
    "recommended_list = [146, 156, 1134, 991, 27, 1543, 3345, 533, 11, 43]\n",
    "bought_list = [521, 27, 143, 991]\n",
    "prices_recommended = [100, 500, 200, 250, 175, 500, 25, 300, 244, 155]\n",
    "prices_bought = [250, 250, 1000, 57]"
   ]
  },
  {
   "cell_type": "code",
   "execution_count": 7,
   "id": "b1f2325f",
   "metadata": {},
   "outputs": [
    {
     "data": {
      "text/plain": [
       "0.5"
      ]
     },
     "execution_count": 7,
     "metadata": {},
     "output_type": "execute_result"
    }
   ],
   "source": [
    "recall_at_k(recommended_list, bought_list)"
   ]
  },
  {
   "cell_type": "code",
   "execution_count": 8,
   "id": "39f3f175",
   "metadata": {},
   "outputs": [
    {
     "data": {
      "text/plain": [
       "0.0012630502812887273"
      ]
     },
     "execution_count": 8,
     "metadata": {},
     "output_type": "execute_result"
    }
   ],
   "source": [
    "money_recall_at_k(recommended_list, bought_list, prices_recommended, prices_bought)"
   ]
  },
  {
   "cell_type": "code",
   "execution_count": 9,
   "id": "155fa2f7",
   "metadata": {},
   "outputs": [
    {
     "data": {
      "text/plain": [
       "0.25"
      ]
     },
     "execution_count": 9,
     "metadata": {},
     "output_type": "execute_result"
    }
   ],
   "source": [
    "reciprocal_rank_at_k(recommended_list, bought_list)"
   ]
  },
  {
   "cell_type": "code",
   "execution_count": 10,
   "id": "01a24bd3",
   "metadata": {},
   "outputs": [
    {
     "data": {
      "text/plain": [
       "1.8982444017039275"
      ]
     },
     "execution_count": 10,
     "metadata": {},
     "output_type": "execute_result"
    }
   ],
   "source": [
    "ndcg_at_k(recommended_list, bought_list)"
   ]
  },
  {
   "cell_type": "code",
   "execution_count": null,
   "id": "ac716a1b",
   "metadata": {},
   "outputs": [],
   "source": []
  }
 ],
 "metadata": {
  "kernelspec": {
   "display_name": "Python 3",
   "language": "python",
   "name": "python3"
  },
  "language_info": {
   "codemirror_mode": {
    "name": "ipython",
    "version": 3
   },
   "file_extension": ".py",
   "mimetype": "text/x-python",
   "name": "python",
   "nbconvert_exporter": "python",
   "pygments_lexer": "ipython3",
   "version": "3.8.8"
  }
 },
 "nbformat": 4,
 "nbformat_minor": 5
}
